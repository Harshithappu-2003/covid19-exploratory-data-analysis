{
 "cells": [
  {
   "cell_type": "markdown",
   "id": "330d3acb",
   "metadata": {
    "id": "330d3acb"
   },
   "source": [
    "### Libraries"
   ]
  },
  {
   "cell_type": "code",
   "execution_count": null,
   "id": "2c004c1d-281a-4227-a916-3dd257fbab36",
   "metadata": {
    "id": "2c004c1d-281a-4227-a916-3dd257fbab36"
   },
   "outputs": [],
   "source": [
    "import pandas as pd\n",
    "import numpy as np\n",
    "import matplotlib.pyplot as plt\n",
    "import seaborn as sns\n",
    "import plotly.express as px\n",
    "import plotly.graph_objects as go\n",
    "from datetime import datetime  # For statistical data visualization\n",
    "import warnings\n",
    "warnings.filterwarnings('ignore')"
   ]
  },
  {
   "cell_type": "markdown",
   "id": "bc49b767",
   "metadata": {
    "id": "bc49b767"
   },
   "source": [
    "### Load the Dataset's"
   ]
  },
  {
   "cell_type": "code",
   "execution_count": null,
   "id": "4c0bce92-ffc3-47b6-b0b3-3d7ac5d4f9ac",
   "metadata": {
    "id": "4c0bce92-ffc3-47b6-b0b3-3d7ac5d4f9ac"
   },
   "outputs": [],
   "source": [
    "# Read CSV files into Pandas DataFrames\n",
    "death = pd.read_csv(\"COVID DEATHS.csv\")\n",
    "vaccine = pd.read_csv(\"COVID_VACCINATIONS.csv\")"
   ]
  },
  {
   "cell_type": "markdown",
   "id": "2a598e70-e837-4bdb-a53b-0297585a063b",
   "metadata": {
    "id": "2a598e70-e837-4bdb-a53b-0297585a063b"
   },
   "source": [
    "### Exploring dataset"
   ]
  },
  {
   "cell_type": "code",
   "execution_count": null,
   "id": "391915e8-f2ef-41b0-b65d-507697646c5f",
   "metadata": {
    "colab": {
     "base_uri": "https://localhost:8080/"
    },
    "id": "391915e8-f2ef-41b0-b65d-507697646c5f",
    "outputId": "996930d5-465b-4d12-a374-0fc2325e828c"
   },
   "outputs": [],
   "source": [
    "# Exploring the shape and information of the data\n",
    "print(death.shape)\n",
    "print(vaccine.shape)"
   ]
  },
  {
   "cell_type": "code",
   "execution_count": null,
   "id": "33afff88-460c-4684-8c4f-247c0fb71ddc",
   "metadata": {
    "colab": {
     "base_uri": "https://localhost:8080/"
    },
    "id": "33afff88-460c-4684-8c4f-247c0fb71ddc",
    "outputId": "68b87b30-b62d-4a95-93c3-1981395be285"
   },
   "outputs": [],
   "source": [
    "print(death.info())\n",
    "print(vaccine.info())"
   ]
  },
  {
   "cell_type": "code",
   "execution_count": null,
   "id": "863bb88a-4298-47b7-ab73-a4e82dd87dbf",
   "metadata": {
    "id": "863bb88a-4298-47b7-ab73-a4e82dd87dbf"
   },
   "outputs": [],
   "source": [
    "## Display all rows and columns of a dataframe instead of a truncated version\n",
    "from IPython.display import display\n",
    "pd.set_option('display.max_columns', None)\n",
    "pd.set_option('display.max_rows', None)"
   ]
  },
  {
   "cell_type": "code",
   "execution_count": null,
   "id": "6298662f-ef8e-4868-8490-8578d0350792",
   "metadata": {
    "colab": {
     "base_uri": "https://localhost:8080/",
     "height": 226
    },
    "id": "b55a13b9-1b0b-4459-9758-ccb1228301ce",
    "outputId": "3da59f82-c8ca-45b9-83c8-f355dc22fac5",
    "scrolled": true
   },
   "outputs": [],
   "source": [
    "death.head()"
   ]
  },
  {
   "cell_type": "code",
   "execution_count": null,
   "id": "f6ce674c-6998-4c6c-a22e-0d4ba5e4d5d2",
   "metadata": {
    "colab": {
     "base_uri": "https://localhost:8080/",
     "height": 226
    },
    "id": "f6ce674c-6998-4c6c-a22e-0d4ba5e4d5d2",
    "outputId": "88e592de-d25f-45e7-841d-1869fc4a50dc"
   },
   "outputs": [],
   "source": [
    "\n",
    "vaccine.head()"
   ]
  },
  {
   "cell_type": "markdown",
   "id": "a5cd6ccb-a4af-4371-ad17-02e6d56c879b",
   "metadata": {},
   "source": [
    "## Observation : We have lot of missing values"
   ]
  },
  {
   "cell_type": "markdown",
   "id": "pI9vMPW6liIv",
   "metadata": {
    "id": "pI9vMPW6liIv"
   },
   "source": [
    "### Missing Values"
   ]
  },
  {
   "cell_type": "code",
   "execution_count": null,
   "id": "u9SGbakDlj8R",
   "metadata": {
    "colab": {
     "base_uri": "https://localhost:8080/",
     "height": 787
    },
    "id": "u9SGbakDlj8R",
    "outputId": "3d4066cc-ef04-47f0-ea41-3ece2b5eaf19"
   },
   "outputs": [],
   "source": [
    "### Checking Missing Values\n",
    "# Visualizing missing data\n",
    "plt.figure(figsize=(12,6))\n",
    "sns.heatmap(death.isnull(), cbar=False, cmap='viridis')\n",
    "plt.title(\"Missing Values in COVID Deaths Dataset\")\n",
    "plt.show()\n"
   ]
  },
  {
   "cell_type": "code",
   "execution_count": null,
   "id": "-byrojE1myUY",
   "metadata": {
    "colab": {
     "base_uri": "https://localhost:8080/",
     "height": 868
    },
    "id": "-byrojE1myUY",
    "outputId": "728e8767-a372-40fb-93fa-79e06fa63d12"
   },
   "outputs": [],
   "source": [
    "\n",
    "plt.figure(figsize=(12,6))\n",
    "sns.heatmap(vaccine.isnull(), cbar=False, cmap='plasma')\n",
    "plt.title(\"Missing Values in COVID Vaccinations Dataset\")\n",
    "plt.show()\n"
   ]
  },
  {
   "cell_type": "code",
   "execution_count": null,
   "id": "y13nm_Wsm0dH",
   "metadata": {
    "colab": {
     "base_uri": "https://localhost:8080/"
    },
    "id": "y13nm_Wsm0dH",
    "outputId": "2f2c93de-8d6b-4e35-c19e-2d9f03281008"
   },
   "outputs": [],
   "source": [
    "\n",
    "# Percentage of missing values\n",
    "missing_deaths = death.isnull().sum() / len(death) * 100\n",
    "missing_vaccinations = vaccine.isnull().sum() / len(vaccine) * 100\n",
    "\n",
    "# Show missing values above 10%\n",
    "missing_deaths[missing_deaths > 10].sort_values(ascending=False), missing_vaccinations[missing_vaccinations > 10].sort_values(ascending=False)\n"
   ]
  },
  {
   "cell_type": "code",
   "execution_count": null,
   "id": "1798d3da-065d-4ad8-b33f-a29325f42a98",
   "metadata": {
    "id": "1798d3da-065d-4ad8-b33f-a29325f42a98"
   },
   "outputs": [],
   "source": [
    "# Merge death and vaccine DataFrames based on a common key\n",
    "combined = pd.merge(death, vaccine, how='outer')"
   ]
  },
  {
   "cell_type": "code",
   "execution_count": null,
   "id": "4fd06002-ac64-49d4-b115-0232e63069c4",
   "metadata": {
    "colab": {
     "base_uri": "https://localhost:8080/",
     "height": 1000
    },
    "id": "4fd06002-ac64-49d4-b115-0232e63069c4",
    "outputId": "dc83e349-b83b-4f97-e6a2-7e9cfc19731b"
   },
   "outputs": [],
   "source": [
    "combined.isnull().sum()"
   ]
  },
  {
   "cell_type": "markdown",
   "id": "P0PGHuDbn6CQ",
   "metadata": {
    "id": "P0PGHuDbn6CQ"
   },
   "source": []
  },
  {
   "cell_type": "markdown",
   "id": "3488b650",
   "metadata": {
    "id": "3488b650"
   },
   "source": [
    "### Data Cleaning"
   ]
  },
  {
   "cell_type": "code",
   "execution_count": null,
   "id": "07d118a9-a914-456f-b6fe-94b6442b10b8",
   "metadata": {
    "id": "07d118a9-a914-456f-b6fe-94b6442b10b8"
   },
   "outputs": [],
   "source": [
    "# null %\n",
    "null_perc=combined.isnull().sum()/len(combined)*100"
   ]
  },
  {
   "cell_type": "code",
   "execution_count": null,
   "id": "776c963c-1862-458f-a27e-8531f2505c9e",
   "metadata": {
    "colab": {
     "base_uri": "https://localhost:8080/",
     "height": 1000
    },
    "id": "776c963c-1862-458f-a27e-8531f2505c9e",
    "outputId": "44d0b051-83e9-4d18-8edd-72cb083968c4"
   },
   "outputs": [],
   "source": [
    "null_perc.sort_values(ascending=False)"
   ]
  },
  {
   "cell_type": "code",
   "execution_count": null,
   "id": "b1d519f6-2f64-44fc-8a8f-5615c17adc32",
   "metadata": {
    "colab": {
     "base_uri": "https://localhost:8080/",
     "height": 1000
    },
    "id": "b1d519f6-2f64-44fc-8a8f-5615c17adc32",
    "outputId": "2788fad3-0f90-4a8b-e218-99c7c51bba62"
   },
   "outputs": [],
   "source": [
    "# > 45% of missing data we'll drop\n",
    "null_columns=combined.isnull().sum().sort_values(ascending=False)\n",
    "null_columns"
   ]
  },
  {
   "cell_type": "code",
   "execution_count": null,
   "id": "046e1e88-9705-43e7-b0df-7addb9d49185",
   "metadata": {
    "id": "046e1e88-9705-43e7-b0df-7addb9d49185"
   },
   "outputs": [],
   "source": [
    "def remove_null_columns(data):\n",
    "    perc=0.45\n",
    "    df=data.copy()\n",
    "    remove_cols=(df.isnull().sum()/len(df))\n",
    "    remove_cols=list(remove_cols[remove_cols.values>=perc].index)\n",
    "    df.drop(labels=remove_cols,axis=1,inplace=True)\n",
    "    return df"
   ]
  },
  {
   "cell_type": "code",
   "execution_count": null,
   "id": "bb8875c7-fc00-4bd9-891c-9f4078741d53",
   "metadata": {
    "id": "bb8875c7-fc00-4bd9-891c-9f4078741d53"
   },
   "outputs": [],
   "source": [
    "combined1=remove_null_columns(combined)"
   ]
  },
  {
   "cell_type": "code",
   "execution_count": null,
   "id": "53979464-30c1-4964-bbe7-74f4fed01fad",
   "metadata": {
    "id": "53979464-30c1-4964-bbe7-74f4fed01fad"
   },
   "outputs": [],
   "source": [
    "# null %\n",
    "null_perc_1=combined1.isnull().sum()/len(combined)*100"
   ]
  },
  {
   "cell_type": "code",
   "execution_count": null,
   "id": "08af5f2b-a8d0-4667-b122-47207a13c78a",
   "metadata": {
    "colab": {
     "base_uri": "https://localhost:8080/",
     "height": 1000
    },
    "id": "08af5f2b-a8d0-4667-b122-47207a13c78a",
    "outputId": "f63e3555-2136-44a5-fe33-c27d0634a6a8"
   },
   "outputs": [],
   "source": [
    "null_perc_1.sort_values(ascending=False)"
   ]
  },
  {
   "cell_type": "code",
   "execution_count": null,
   "id": "ffdfa5ff-7fcd-47f4-b7c7-bc562b4f67fd",
   "metadata": {
    "id": "ffdfa5ff-7fcd-47f4-b7c7-bc562b4f67fd"
   },
   "outputs": [],
   "source": [
    "combined1.dropna(subset=['continent'], inplace=True)\n"
   ]
  },
  {
   "cell_type": "code",
   "execution_count": null,
   "id": "d18722f8-89eb-425a-a6df-5d35248d2dfc",
   "metadata": {
    "colab": {
     "base_uri": "https://localhost:8080/"
    },
    "id": "d18722f8-89eb-425a-a6df-5d35248d2dfc",
    "outputId": "b9fbe12b-fb54-43fd-9fe0-5d8f1b78210e"
   },
   "outputs": [],
   "source": [
    "combined1.shape"
   ]
  },
  {
   "cell_type": "code",
   "execution_count": null,
   "id": "1dccd9fc-b4a9-48f7-9253-f976dd7d2474",
   "metadata": {
    "colab": {
     "base_uri": "https://localhost:8080/"
    },
    "id": "1dccd9fc-b4a9-48f7-9253-f976dd7d2474",
    "outputId": "7d7fae9c-db82-4f9f-91ba-73722b57a5c3"
   },
   "outputs": [],
   "source": [
    "# Checking for duplicate rows\n",
    "print(death[death.duplicated()])\n",
    "print(vaccine[vaccine.duplicated()])"
   ]
  },
  {
   "cell_type": "markdown",
   "id": "76a09dab",
   "metadata": {
    "id": "76a09dab"
   },
   "source": [
    "### Data Transformation"
   ]
  },
  {
   "cell_type": "code",
   "execution_count": null,
   "id": "623ce52b-8274-491d-9560-9006d11f414c",
   "metadata": {
    "colab": {
     "base_uri": "https://localhost:8080/",
     "height": 313
    },
    "id": "623ce52b-8274-491d-9560-9006d11f414c",
    "outputId": "32c38e8d-db49-468a-cbff-d25defc974e0"
   },
   "outputs": [],
   "source": [
    "combined1.head()"
   ]
  },
  {
   "cell_type": "code",
   "execution_count": null,
   "id": "4mlgsezaosei",
   "metadata": {
    "colab": {
     "base_uri": "https://localhost:8080/",
     "height": 313
    },
    "id": "4mlgsezaosei",
    "outputId": "3b6d2acb-8f07-4a6d-d124-61ca9040bf67"
   },
   "outputs": [],
   "source": [
    "combined1.head()"
   ]
  },
  {
   "cell_type": "code",
   "execution_count": null,
   "id": "c3f08d9d-796f-43ba-ae2d-62b4eb298f95",
   "metadata": {
    "colab": {
     "base_uri": "https://localhost:8080/"
    },
    "id": "c3f08d9d-796f-43ba-ae2d-62b4eb298f95",
    "outputId": "d4bec4ac-c09b-4045-d4f4-138be9bb72df"
   },
   "outputs": [],
   "source": [
    "combined1.columns"
   ]
  },
  {
   "cell_type": "markdown",
   "id": "9i1U5bzSpxI0",
   "metadata": {
    "id": "9i1U5bzSpxI0"
   },
   "source": [
    "### COlumns to keep"
   ]
  },
  {
   "cell_type": "code",
   "execution_count": null,
   "id": "CrUcz8S6py6f",
   "metadata": {
    "id": "CrUcz8S6py6f"
   },
   "outputs": [],
   "source": [
    "# List of columns to retain\n",
    "columns_to_keep = [ 'continent', 'location', 'date', 'population',\n",
    "                   'total_cases', 'new_cases', 'total_deaths', 'new_deaths',\n",
    "                   'reproduction_rate', 'stringency_index', 'population_density',\n",
    "                   'median_age', 'gdp_per_capita', 'diabetes_prevalence',\n",
    "                   'hospital_beds_per_thousand', 'life_expectancy']\n",
    "\n",
    "# Dropping redundant columns\n",
    "combined1 = combined1[columns_to_keep]"
   ]
  },
  {
   "cell_type": "code",
   "execution_count": null,
   "id": "3m27Bs4Fp8z-",
   "metadata": {
    "colab": {
     "base_uri": "https://localhost:8080/"
    },
    "id": "3m27Bs4Fp8z-",
    "outputId": "2a0c5bb6-e7f7-482f-dad1-db091ad8d72d"
   },
   "outputs": [],
   "source": [
    "# Calculate percentage of missing values\n",
    "missing_percentage = (combined1.isnull().sum() / len(combined1)) * 100\n",
    "\n",
    "# Display only columns with missing values\n",
    "missing_percentage = missing_percentage[missing_percentage > 0].sort_values(ascending=False)\n",
    "\n",
    "# Print missing values percentage\n",
    "print(\"Percentage of Missing Values in Retained Columns:\")\n",
    "print(missing_percentage)\n"
   ]
  },
  {
   "cell_type": "code",
   "execution_count": null,
   "id": "hHtHvcRmqeGU",
   "metadata": {
    "colab": {
     "base_uri": "https://localhost:8080/",
     "height": 1000
    },
    "id": "hHtHvcRmqeGU",
    "outputId": "a069c6c4-2953-4136-e1e3-456ea3db663f"
   },
   "outputs": [],
   "source": [
    "import matplotlib.pyplot as plt\n",
    "import seaborn as sns\n",
    "\n",
    "# List of columns with missing values\n",
    "missing_cols = ['reproduction_rate', 'stringency_index', 'hospital_beds_per_thousand',\n",
    "                'total_deaths', 'gdp_per_capita', 'median_age', 'diabetes_prevalence',\n",
    "                'total_cases', 'population_density', 'life_expectancy', 'new_cases', 'new_deaths']\n",
    "\n",
    "# Plot histograms\n",
    "plt.figure(figsize=(15, 10))\n",
    "for i, col in enumerate(missing_cols, 1):\n",
    "    plt.subplot(4, 3, i)\n",
    "    sns.histplot(combined1[col], bins=30, kde=True)\n",
    "    plt.title(f'Distribution of {col}')\n",
    "plt.tight_layout()\n",
    "plt.show()\n",
    "\n",
    "# Plot boxplots for skewed data detection\n",
    "plt.figure(figsize=(15, 10))\n",
    "for i, col in enumerate(missing_cols, 1):\n",
    "    plt.subplot(4, 3, i)\n",
    "    sns.boxplot(y=combined1[col])\n",
    "    plt.title(f'Boxplot of {col}')\n",
    "plt.tight_layout()\n",
    "plt.show()\n"
   ]
  },
  {
   "cell_type": "code",
   "execution_count": null,
   "id": "l_5GnaZnqmNf",
   "metadata": {
    "colab": {
     "base_uri": "https://localhost:8080/"
    },
    "id": "l_5GnaZnqmNf",
    "outputId": "36bd38e5-0186-4d54-a3db-a1ebccf2a3f1"
   },
   "outputs": [],
   "source": [
    "# Handling missing values based on distribution\n",
    "\n",
    "# 1️⃣ Mean Imputation for Normally Distributed Features\n",
    "mean_impute_cols = ['reproduction_rate', 'stringency_index', 'median_age', 'life_expectancy']\n",
    "combined1[mean_impute_cols] = combined1[mean_impute_cols].fillna(combined1[mean_impute_cols].mean())\n",
    "\n",
    "# 2️⃣ Median Imputation for Skewed Features\n",
    "median_impute_cols = ['hospital_beds_per_thousand', 'gdp_per_capita', 'diabetes_prevalence', 'population_density']\n",
    "combined1[median_impute_cols] = combined1[median_impute_cols].fillna(combined1[median_impute_cols].median())\n",
    "\n",
    "# 3️⃣ Forward Fill for Time-Series Features\n",
    "time_series_fill_cols = ['total_cases', 'total_deaths', 'new_cases', 'new_deaths']\n",
    "combined1[time_series_fill_cols] = combined1[time_series_fill_cols].fillna(method='ffill').fillna(method='bfill')\n",
    "\n",
    "# Verify that missing values are handled\n",
    "print(\"Remaining Missing Values After Imputation:\")\n",
    "print(combined1.isnull().sum()[combined1.isnull().sum() > 0])\n"
   ]
  },
  {
   "cell_type": "code",
   "execution_count": null,
   "id": "d366d7d5-e8af-41c7-ab08-103b1d09144a",
   "metadata": {
    "colab": {
     "base_uri": "https://localhost:8080/",
     "height": 585
    },
    "id": "d366d7d5-e8af-41c7-ab08-103b1d09144a",
    "outputId": "01c41f97-3044-4a8f-838d-685eb03a11ba"
   },
   "outputs": [],
   "source": [
    "combined1.isnull().sum()"
   ]
  },
  {
   "cell_type": "code",
   "execution_count": null,
   "id": "o3L56TF5rlSk",
   "metadata": {
    "colab": {
     "base_uri": "https://localhost:8080/",
     "height": 308
    },
    "id": "o3L56TF5rlSk",
    "outputId": "93af2285-63ee-40f4-d4b1-ba60d7612a88"
   },
   "outputs": [],
   "source": [
    "import matplotlib.pyplot as plt\n",
    "import seaborn as sns\n",
    "\n",
    "def univariate_analysis(df, column):\n",
    "    \"\"\"\n",
    "    Generate histogram & boxplot for a given column.\n",
    "    \"\"\"\n",
    "    plt.figure(figsize=(14, 5))\n",
    "\n",
    "    # Histogram & KDE plot\n",
    "    plt.subplot(1, 2, 1)\n",
    "    sns.histplot(df[column], bins=30, kde=True)\n",
    "    plt.title(f\"Distribution of {column}\")\n",
    "\n",
    "    # Boxplot\n",
    "    plt.subplot(1, 2, 2)\n",
    "    sns.boxplot(y=df[column])\n",
    "    plt.title(f\"Boxplot of {column}\")\n",
    "\n",
    "    plt.show()\n",
    "\n",
    "# Example: Run this function for each column separately\n",
    "column_name = 'gdp_per_capita'  # Change column name for each analysis\n",
    "univariate_analysis(combined1, column_name)\n"
   ]
  },
  {
   "cell_type": "markdown",
   "id": "922473cd",
   "metadata": {
    "id": "922473cd"
   },
   "source": [
    "### What are the total cases, deaths, tests, vaccinations based on the year"
   ]
  },
  {
   "cell_type": "code",
   "execution_count": null,
   "id": "8vJEfzM0sc4R",
   "metadata": {
    "colab": {
     "base_uri": "https://localhost:8080/",
     "height": 542
    },
    "id": "8vJEfzM0sc4R",
    "outputId": "2008d2d4-1f66-4947-d769-bc1230ef3593"
   },
   "outputs": [],
   "source": [
    "import pandas as pd\n",
    "import plotly.express as px\n",
    "\n",
    "def plot_yearly_univariate(df, column, title):\n",
    "    \"\"\"\n",
    "    Function to generate a line plot for a single column over the years.\n",
    "\n",
    "    Parameters:\n",
    "    df (DataFrame): The dataset containing COVID-19 data\n",
    "    column (str): Column to plot\n",
    "    title (str): Title of the plot\n",
    "    \"\"\"\n",
    "    # Convert date to datetime format and extract year\n",
    "    df['date'] = pd.to_datetime(df['date'])\n",
    "    df['year'] = df['date'].dt.year\n",
    "\n",
    "    # Group data by year and sum the selected column\n",
    "    yearly_data = df.groupby('year')[column].sum().reset_index()\n",
    "\n",
    "    # Create a line plot for a single column\n",
    "    fig = px.line(yearly_data, x='year', y=column,\n",
    "                  markers=True, title=title, template=\"plotly_dark\")\n",
    "\n",
    "    fig.update_layout(yaxis_title=\"Count\", xaxis_title=\"Year\")\n",
    "    fig.show()\n",
    "\n",
    "# Call function separately for each metric\n",
    "plot_yearly_univariate(combined1, 'total_cases', \"Yearly Trend of Total Cases\")\n"
   ]
  },
  {
   "cell_type": "code",
   "execution_count": null,
   "id": "pdGFdx91thMV",
   "metadata": {
    "colab": {
     "base_uri": "https://localhost:8080/",
     "height": 542
    },
    "id": "pdGFdx91thMV",
    "outputId": "6c99468e-6f79-45b9-d005-e73b0e5b8cbf"
   },
   "outputs": [],
   "source": [
    "plot_yearly_univariate(combined1, 'new_cases', \"Yearly Trend of New Cases\")\n"
   ]
  },
  {
   "cell_type": "code",
   "execution_count": null,
   "id": "8kAIxplVtmCL",
   "metadata": {
    "colab": {
     "base_uri": "https://localhost:8080/",
     "height": 542
    },
    "id": "8kAIxplVtmCL",
    "outputId": "c2823635-85c3-45fe-dd0d-3408f731d8e6"
   },
   "outputs": [],
   "source": [
    "plot_yearly_univariate(combined1, 'total_deaths', \"Yearly Trend of Total Deaths\")\n"
   ]
  },
  {
   "cell_type": "code",
   "execution_count": null,
   "id": "0PqrDhlHtotK",
   "metadata": {
    "colab": {
     "base_uri": "https://localhost:8080/",
     "height": 542
    },
    "id": "0PqrDhlHtotK",
    "outputId": "f03db260-aa6d-42bf-b019-777234823225"
   },
   "outputs": [],
   "source": [
    "plot_yearly_univariate(combined1, 'new_deaths', \"Yearly Trend of New Deaths\")\n"
   ]
  },
  {
   "cell_type": "markdown",
   "id": "b98feeaa",
   "metadata": {
    "id": "b98feeaa"
   },
   "source": [
    "### Visualization of Top 10 Countries by COVID-19 Cases Over Years"
   ]
  },
  {
   "cell_type": "code",
   "execution_count": null,
   "id": "ZFzzHjhNunrh",
   "metadata": {
    "colab": {
     "base_uri": "https://localhost:8080/",
     "height": 542
    },
    "id": "ZFzzHjhNunrh",
    "outputId": "a177666d-a1c2-4456-9849-15a4f61b047b"
   },
   "outputs": [],
   "source": [
    "import pandas as pd\n",
    "import plotly.express as px\n",
    "\n",
    "def plot_top_countries_cases(df, year):\n",
    "    \"\"\"\n",
    "    Function to visualize the Top 10 countries by total COVID-19 cases for a given year.\n",
    "\n",
    "    Parameters:\n",
    "    df (DataFrame): The dataset containing COVID-19 data\n",
    "    year (int): The year for which to plot the top 10 countries\n",
    "    \"\"\"\n",
    "    # Filter data for the selected year\n",
    "    df_year = df[df['year'] == year]\n",
    "\n",
    "    # Group by country (location) and sum total cases\n",
    "    country_cases = df_year.groupby('location')['total_cases'].max().reset_index()\n",
    "\n",
    "    # Select the top 10 countries with the highest cases\n",
    "    top_countries = country_cases.nlargest(10, 'total_cases')\n",
    "\n",
    "    # Create a bar chart using Plotly\n",
    "    fig = px.bar(top_countries, x='location', y='total_cases',\n",
    "                 text='total_cases', title=f\"Top 10 Countries by COVID-19 Cases in {year}\",\n",
    "                 labels={'total_cases': 'Total Cases', 'location': 'Country'},\n",
    "                 template=\"plotly_dark\", color='total_cases')\n",
    "\n",
    "    fig.update_traces(texttemplate='%{text:.2s}', textposition='outside')\n",
    "    fig.update_layout(xaxis_title=\"Country\", yaxis_title=\"Total Cases\")\n",
    "    fig.show()\n",
    "\n",
    "# Example: Plot for different years\n",
    "plot_top_countries_cases(combined1, 2020)\n",
    "\n"
   ]
  },
  {
   "cell_type": "code",
   "execution_count": null,
   "id": "wzILhs-MupgC",
   "metadata": {
    "colab": {
     "base_uri": "https://localhost:8080/",
     "height": 542
    },
    "id": "wzILhs-MupgC",
    "outputId": "ffe1b665-c387-452b-c7aa-0386ee278386"
   },
   "outputs": [],
   "source": [
    "plot_top_countries_cases(combined1, 2021)\n"
   ]
  },
  {
   "cell_type": "code",
   "execution_count": null,
   "id": "3ekzjgA4uspU",
   "metadata": {
    "colab": {
     "base_uri": "https://localhost:8080/",
     "height": 542
    },
    "id": "3ekzjgA4uspU",
    "outputId": "ced3ee25-a94d-47b2-82f7-a1a5882cdcf7"
   },
   "outputs": [],
   "source": [
    "plot_top_countries_cases(combined1, 2022)\n"
   ]
  },
  {
   "cell_type": "code",
   "execution_count": null,
   "id": "xUejWKSXu3Q2",
   "metadata": {
    "colab": {
     "base_uri": "https://localhost:8080/",
     "height": 542
    },
    "id": "xUejWKSXu3Q2",
    "outputId": "acb330e9-fe98-4221-cb7f-c0836cc60aef"
   },
   "outputs": [],
   "source": [
    "plot_top_countries_cases(combined1, 2023)"
   ]
  },
  {
   "cell_type": "markdown",
   "id": "aeab8cf8",
   "metadata": {
    "id": "aeab8cf8"
   },
   "source": [
    "### Realtionship between GDP and cases"
   ]
  },
  {
   "cell_type": "code",
   "execution_count": null,
   "id": "WQWJWz1xur_6",
   "metadata": {
    "colab": {
     "base_uri": "https://localhost:8080/",
     "height": 542
    },
    "id": "WQWJWz1xur_6",
    "outputId": "0078faad-c735-45e7-c3d2-6c3e43b800de"
   },
   "outputs": [],
   "source": [
    "def plot_gdp_vs_cases(df):\n",
    "    fig = px.scatter(df, x='gdp_per_capita', y='total_cases', color='continent',\n",
    "                     size='population', title=\"GDP per Capita vs Total Cases\",\n",
    "                     hover_name='location', log_x=True, template=\"plotly_dark\")\n",
    "    fig.show()\n",
    "\n",
    "plot_gdp_vs_cases(combined1)\n"
   ]
  },
  {
   "cell_type": "markdown",
   "id": "gnMBtLxfvCd_",
   "metadata": {
    "id": "gnMBtLxfvCd_"
   },
   "source": [
    " ### Impact of Population Density on COVID-19 Spread"
   ]
  },
  {
   "cell_type": "code",
   "execution_count": null,
   "id": "v4AezKTsvE85",
   "metadata": {
    "colab": {
     "base_uri": "https://localhost:8080/",
     "height": 542
    },
    "id": "v4AezKTsvE85",
    "outputId": "78122a7a-f4ec-4295-83e5-6fabc6a3092c"
   },
   "outputs": [],
   "source": [
    "def plot_population_density_vs_cases(df):\n",
    "    fig = px.scatter(df, x='population_density', y='total_cases', color='continent',\n",
    "                     title=\"Population Density vs Total Cases\",\n",
    "                     hover_name='location', log_x=True, template=\"plotly_dark\")\n",
    "    fig.show()\n",
    "\n",
    "plot_population_density_vs_cases(combined1)\n",
    "\n",
    "# Hypothesis: Densely populated areas may have higher COVID-19 cases."
   ]
  },
  {
   "cell_type": "markdown",
   "id": "AUIV0QN_vLJB",
   "metadata": {
    "id": "AUIV0QN_vLJB"
   },
   "source": [
    "Correlation Between Stringency Index & Cases Over Time\n",
    "🔍 Hypothesis: Stricter lockdown policies may reduce the number of cases."
   ]
  },
  {
   "cell_type": "code",
   "execution_count": null,
   "id": "xZUn7TVlvNCi",
   "metadata": {
    "colab": {
     "base_uri": "https://localhost:8080/",
     "height": 542
    },
    "id": "xZUn7TVlvNCi",
    "outputId": "7ec6f391-e82b-413d-b3f3-18e9785f825d"
   },
   "outputs": [],
   "source": [
    "def plot_stringency_vs_cases(df):\n",
    "    fig = px.scatter(df, x='stringency_index', y='new_cases', color='continent',\n",
    "                     title=\"Stringency Index vs New Cases\",\n",
    "                     hover_name='location', template=\"plotly_dark\")\n",
    "    fig.show()\n",
    "\n",
    "plot_stringency_vs_cases(combined1)\n"
   ]
  },
  {
   "cell_type": "markdown",
   "id": "gwDS7Jk1vkwn",
   "metadata": {
    "id": "gwDS7Jk1vkwn"
   },
   "source": [
    "# Treemap – Total Cases by Continent & Country\n",
    "🔍 Hypothesis: Visualize which countries had the most cases within each continent.\n"
   ]
  },
  {
   "cell_type": "code",
   "execution_count": null,
   "id": "bSikgld4vqwH",
   "metadata": {
    "colab": {
     "base_uri": "https://localhost:8080/",
     "height": 542
    },
    "id": "bSikgld4vqwH",
    "outputId": "d8ca0b5f-b229-43e1-8042-7082dfa91c88"
   },
   "outputs": [],
   "source": [
    "def plot_treemap_cases(df):\n",
    "    fig = px.treemap(df, path=['continent', 'location'], values='total_cases',\n",
    "                     title=\"Treemap of COVID-19 Cases by Continent & Country\",\n",
    "                     color='total_cases', template=\"plotly_dark\")\n",
    "    fig.show()\n",
    "\n",
    "plot_treemap_cases(combined1)\n"
   ]
  },
  {
   "cell_type": "markdown",
   "id": "peS_nXNGvzC8",
   "metadata": {
    "id": "peS_nXNGvzC8"
   },
   "source": [
    "## Bar Chart – Top 10 Countries by Total Deaths\n",
    "🔍 Hypothesis: Identify which countries had the highest death tolls"
   ]
  },
  {
   "cell_type": "code",
   "execution_count": null,
   "id": "fYvFqLHNv1-L",
   "metadata": {
    "colab": {
     "base_uri": "https://localhost:8080/",
     "height": 542
    },
    "id": "fYvFqLHNv1-L",
    "outputId": "aa896d39-2be1-41cc-9f61-9a3c8474ccc6"
   },
   "outputs": [],
   "source": [
    "def plot_top_10_countries_deaths(df):\n",
    "    top_countries = df.groupby('location')['total_deaths'].max().reset_index()\n",
    "    top_countries = top_countries.nlargest(10, 'total_deaths')\n",
    "\n",
    "    fig = px.bar(top_countries, x='location', y='total_deaths', color='total_deaths',\n",
    "                 title=\"Top 10 Countries by COVID-19 Deaths\", template=\"plotly_dark\")\n",
    "    fig.show()\n",
    "\n",
    "plot_top_10_countries_deaths(combined1)\n"
   ]
  },
  {
   "cell_type": "markdown",
   "id": "it-KyPiYv6bZ",
   "metadata": {
    "id": "it-KyPiYv6bZ"
   },
   "source": [
    " ###  Hospital Beds per Thousand vs Death Rate\n",
    "🔍 Hypothesis: Countries with more hospital beds per capita may have lower fatality rates."
   ]
  },
  {
   "cell_type": "code",
   "execution_count": null,
   "id": "m8fznx7Av8b2",
   "metadata": {
    "colab": {
     "base_uri": "https://localhost:8080/",
     "height": 542
    },
    "id": "m8fznx7Av8b2",
    "outputId": "a7d690f9-2e9a-40fa-a4a0-fdc7c7e9011c"
   },
   "outputs": [],
   "source": [
    "def plot_hospital_beds_vs_deaths(df):\n",
    "    fig = px.scatter(df, x='hospital_beds_per_thousand', y='total_deaths',\n",
    "                     color='continent', title=\"Hospital Beds per Thousand vs Deaths\",\n",
    "                     hover_name='location', template=\"plotly_dark\")\n",
    "    fig.show()\n",
    "\n",
    "plot_hospital_beds_vs_deaths(combined1)\n"
   ]
  },
  {
   "cell_type": "code",
   "execution_count": null,
   "id": "f37968aa-d8db-4228-9213-f054f81a0ce1",
   "metadata": {},
   "outputs": [],
   "source": []
  }
 ],
 "metadata": {
  "colab": {
   "provenance": []
  },
  "kernelspec": {
   "display_name": "Python 3 (ipykernel)",
   "language": "python",
   "name": "python3"
  },
  "language_info": {
   "codemirror_mode": {
    "name": "ipython",
    "version": 3
   },
   "file_extension": ".py",
   "mimetype": "text/x-python",
   "name": "python",
   "nbconvert_exporter": "python",
   "pygments_lexer": "ipython3",
   "version": "3.12.6"
  }
 },
 "nbformat": 4,
 "nbformat_minor": 5
}
